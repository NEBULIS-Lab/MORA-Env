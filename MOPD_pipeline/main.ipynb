{
 "cells": [
  {
   "cell_type": "code",
   "execution_count": null,
   "outputs": [],
   "source": [
    "'''\n",
    "Created on Nov 2024\n",
    "@author: <Shuaijun LIU, Qifu WEN>\n",
    "'''\n",
    "\n",
    "''' ------------- STEP1. GeoTIFF 1.1 Get Terrain Data and Visual --------------- '''\n",
    "from GeoTIFF_Data import Get_GeoTIFF_Data\n",
    "from GeoTIFF_Data import analyze_geotiff\n",
    "from GeoTIFF_Data import tif_to_csv, visualize_elevation_map\n",
    "import rasterio\n",
    "import numpy as np\n",
    "import os\n",
    "\n",
    "# Input values for latitude, longitude, and elevation ranges\n",
    "# Boston\n",
    "# lat_min = 32.0  # Minimum latitude\n",
    "# lat_max = 33.0  # Maximum latitude\n",
    "# lon_min = -66.5  # Minimum longitude\n",
    "# lon_max = -65.5  # Maximum longitude\n",
    "# elev_min = -10000  # Minimum elevation\n",
    "# elev_max = 0      # Maximum elevation\n",
    "\n",
    "# # US-NE\n",
    "# lat_min = 32.0  # Minimum latitude\n",
    "# lat_max = 42.0  # Maximum latitude\n",
    "# lon_min = -70.5  # Minimum longitude\n",
    "# lon_max = -65.5  # Maximum longitude\n",
    "# elev_min = -10000  # Minimum elevation\n",
    "# elev_max = 0      # Maximum elevation\n",
    "\n",
    "# # JP\n",
    "# lat_min = 24.0  # Minimum latitude\n",
    "# lat_max = 34.0  # Maximum latitude\n",
    "# lon_min = 132.0  # Minimum longitude\n",
    "# lon_max = 142.0  # Maximum longitude\n",
    "# elev_min = -11000  # Minimum elevation\n",
    "# elev_max = 0      # Maximum elevation\n",
    "#\n",
    "# save_path = \"./output\"\n",
    "#\n",
    "# # Call the function and retrieve the cropped data\n",
    "# cropped_data = Get_GeoTIFF_Data(lat_min, lat_max, lon_min, lon_max, elev_min, elev_max, save_path)\n",
    "#\n",
    "# if cropped_data is not None:\n",
    "#     print(\"Shape of cropped data:\", cropped_data.shape)\n",
    "#     # view angles\n",
    "#     view_angles = [(30, 45), (60, 45), (90, 45), (90, 135), (60, 135), (30, 135)]\n",
    "#     visualize_elevation_map(cropped_data, view_angles, lat_min, lat_max, lon_min, lon_max, save_path)\n",
    "#     print(f\"Fig saved to {save_path}\")\n",
    "# else:\n",
    "#     print(\"No data returned for the specified region.\")\n"
   ],
   "metadata": {
    "collapsed": false
   },
   "id": "53ed6f6397030973"
  },
  {
   "cell_type": "code",
   "execution_count": null,
   "outputs": [],
   "source": [
    "\n",
    "''' ------------- STEP 1. GeoTIFF 1.2 Get Terrain Data Inform / Trans to CAV (Optional) --------------- '''\n",
    "# cropped_file_path = \"./output/filtered_data.tif\"\n",
    "# result = analyze_geotiff(cropped_file_path)\n",
    "# if \"error\" in result:\n",
    "#     print(result[\"error\"])\n",
    "# else:\n",
    "#     print(f\"Shape: {result['shape']}\")\n",
    "#     print(f\"Min: {result['min_val']}, Max: {result['max_val']}, Mean: {result['mean_val']:.2f}\")\n",
    "#     print(f\"Data type: {result['data_type']}\")\n",
    "#\n",
    "# tif_to_csv\n",
    "# tif_to_csv(cropped_file_path)\n"
   ],
   "metadata": {
    "collapsed": false
   },
   "id": "96d3a20ebad61bb5"
  },
  {
   "cell_type": "code",
   "execution_count": null,
   "outputs": [],
   "source": [
    "\n",
    "''' ------------- STEP 2. GCPAF: Get Currents Forecast Data --------------- '''\n",
    "# from GCPAF_Data import fetch_and_merge_copernicus_data\n",
    "# if __name__ == \"__main__\":\n",
    "#\n",
    "#     fetch_and_merge_copernicus_data(\n",
    "#         username='sliu42',  # CMEMS username\n",
    "#         password='Lsj200106013519',  # CMEMS password\n",
    "\n",
    "#         # Bos\n",
    "#         minimum_longitude=32.0,\n",
    "#         maximum_longitude=33.0,\n",
    "#         minimum_latitude=-66.5,\n",
    "#         maximum_latitude=-65.5,\n",
    "#\n",
    "#         # JP\n",
    "#         minimum_latitude = 24.0,\n",
    "#         maximum_latitude = 34.0,\n",
    "#         minimum_longitude = 132.0,\n",
    "#         maximum_longitude = 142.0,\n",
    "#\n",
    "#         start_datetime=\"2024-01-01T00:00:00\",\n",
    "#         end_datetime=\"2024-06-30T23:00:00\",\n",
    "#         minimum_depth=0.4,  # Depth range is from 0.5 m to 5727.9 m\n",
    "#         maximum_depth=0.5,\n",
    "#         output_filename=\"combined_gcpaf_data.nc\"\n",
    "#     )\n",
    "# print('===================================')\n",
    "#\n",
    "# from GCPAF_Data import get_shapes\n",
    "# if __name__ == \"__main__\":\n",
    "#     file_path = \"./Data/GCPAF/combined_gcpaf_data.nc\"\n",
    "#     get_shapes(file_path)\n"
   ],
   "metadata": {
    "collapsed": false
   },
   "id": "43ce4bb218c3de89"
  },
  {
   "cell_type": "code",
   "execution_count": null,
   "outputs": [],
   "source": [
    "\n",
    "''' ------------- STEP 3. Combine Terrain and Currents Data 3.1 Build Env Small-------------- '''\n",
    "# from Combine import interpolate_and_merge\n",
    "# from Combine import visualize_combined_data\n",
    "#\n",
    "# interpolate_and_merge('./output/filtered_data.tif', './Data/GCPAF/combined_gcpaf_data.nc', './Data/Combined')\n",
    "#\n",
    "# # visualize\n",
    "# visualize_combined_data('./Data/Combined/combined_environment.nc', time_index=0, depth_index=0)\n"
   ],
   "metadata": {
    "collapsed": false
   },
   "id": "4cb1f9bb47766cdd"
  },
  {
   "cell_type": "code",
   "execution_count": null,
   "outputs": [],
   "source": [
    "\n",
    "''' ------------- STEP 3. Combine Terrain and Currents Data 3.2 Build Env Large (Optional)-------------- '''\n",
    "# from Combine import interpolate_geotiff\n",
    "#\n",
    "# new_resolution = (1000, 1000)\n",
    "# interpolated_data = interpolate_geotiff(\"./output/filtered_data.tif\", new_resolution, \"./output/interpolated_data.tif\")\n",
    "#\n",
    "# if interpolated_data is not None:\n",
    "#     print(\"New Data Shape:\", interpolated_data.shape)\n",
    "# else:\n",
    "#     print(\"Failed\")\n",
    "#\n",
    "# interpolate_and_merge('./output/interpolated_data.tif', './Data/GCPAF/combined_gcpaf_data.nc', './Data/Combined/large')\n",
    "\n",
    "\n"
   ],
   "metadata": {
    "collapsed": false
   },
   "id": "8ce3dfa3fe1456"
  },
  {
   "cell_type": "code",
   "execution_count": null,
   "outputs": [],
   "source": [
    "\n",
    "''' ------------- From NOAA Get Currents Ture Data (Optional) --------------- '''\n",
    "# from get_UW_data import fetch_noaa_data\n",
    "# from get_station_id import get_nearest_station_id\n",
    "# from get_station_id import find_nearest_current_station\n",
    "#\n",
    "# if __name__ == \"__main__\":\n",
    "#     latitude = 32.7749\n",
    "#     longitude = -65.4194\n",
    "#     station_id = get_nearest_station_id(latitude, longitude)\n",
    "#     print(f\"Using NOAA station ID: {station_id}\")\n",
    "#     fetch_noaa_data(station_id)\n",
    "#\n",
    "#     current_station_id = find_nearest_current_station(latitude, longitude)\n",
    "#     if current_station_id:\n",
    "#         print(f\"Use Station ID: {current_station_id} for current data retrieval.\")\n",
    "#         fetch_noaa_data(current_station_id)\n"
   ],
   "metadata": {
    "collapsed": false
   },
   "id": "f12b2e0afb39c046"
  },
  {
   "cell_type": "code",
   "execution_count": null,
   "outputs": [],
   "source": [],
   "metadata": {
    "collapsed": false
   },
   "id": "a603b9c790f4335c"
  },
  {
   "cell_type": "code",
   "execution_count": 1,
   "outputs": [
    {
     "name": "stderr",
     "output_type": "stream",
     "text": [
      "/Library/Frameworks/Python.framework/Versions/3.12/lib/python3.12/site-packages/dask/dataframe/__init__.py:49: FutureWarning: \n",
      "Dask dataframe query planning is disabled because dask-expr is not installed.\n",
      "\n",
      "You can install it with `pip install dask[dataframe]` or `conda install dask`.\n",
      "This will raise in a future version.\n",
      "\n",
      "  warnings.warn(msg, FutureWarning)\n"
     ]
    },
    {
     "name": "stdout",
     "output_type": "stream",
     "text": [
      "Reading original CSV file...\n",
      "Calculating missing values...\n",
      "Missing value count per column:\n",
      "id                                        0\n",
      "scientificname                            0\n",
      "lifestage                         129780062\n",
      "sex                               121549402\n",
      "behavior                          134754538\n",
      "eventDate                           8546866\n",
      "latitude                            8251036\n",
      "longitude                           8251036\n",
      "depth                              97198633\n",
      "country                           113044933\n",
      "countryCode                        54976113\n",
      "locality                           74957147\n",
      "year                                8546866\n",
      "month                               8546866\n",
      "day                                 8546866\n",
      "shoreDistance                      80782459\n",
      "freshWater                         96944732\n",
      "bathymetry                         80783610\n",
      "continent                         128280182\n",
      "marine                             80834419\n",
      "waterBody                         109365442\n",
      "habitat                           129705778\n",
      "temperature                       122762985\n",
      "salinity                          122763922\n",
      "ugo                               129971247\n",
      "vgo                               129565489\n",
      "waveVelocity                      131094112\n",
      "chlorophyll                       115510210\n",
      "nitrate                           115510210\n",
      "phosphate                         115510210\n",
      "silicate                          115510210\n",
      "dissolvedMolecularOxygen          115510210\n",
      "nppv                              115510210\n",
      "dissolvedIron                     115510210\n",
      "spCO2                             108069172\n",
      "ph                                115510210\n",
      "phytoplanktonExpressedAsCarbon    115949054\n",
      "dtype: int64\n"
     ]
    }
   ],
   "source": [
    "import dask.dataframe as dd\n",
    "\n",
    "print(\"Reading original CSV file...\")\n",
    "file_path = '/Users/a1234/Desktop/workspace/A Large-Scale Oceanographic Dataset for Machine Learning-Based Ocean Current and Pollution Prediction/MOPD_pipeline/Data/GMB/Global_Marine_Biodiversity_Records_All.csv'\n",
    "\n",
    "df = dd.read_csv(file_path, assume_missing=True, dtype='object')\n",
    "\n",
    "print(\"Calculating missing values...\")\n",
    "missing = df.isnull().sum().compute()\n",
    "\n",
    "print(\"Missing value count per column:\")\n",
    "print(missing)"
   ],
   "metadata": {
    "collapsed": false,
    "ExecuteTime": {
     "end_time": "2025-04-06T21:16:03.074763Z",
     "start_time": "2025-04-06T21:07:57.410037Z"
    }
   },
   "id": "45d1d078f69c3cab"
  }
 ],
 "metadata": {
  "kernelspec": {
   "display_name": "Python 3",
   "language": "python",
   "name": "python3"
  },
  "language_info": {
   "codemirror_mode": {
    "name": "ipython",
    "version": 2
   },
   "file_extension": ".py",
   "mimetype": "text/x-python",
   "name": "python",
   "nbconvert_exporter": "python",
   "pygments_lexer": "ipython2",
   "version": "2.7.6"
  }
 },
 "nbformat": 4,
 "nbformat_minor": 5
}
